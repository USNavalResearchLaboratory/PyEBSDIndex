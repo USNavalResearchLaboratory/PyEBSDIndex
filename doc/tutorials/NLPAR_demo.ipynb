{
 "cells": [
  {
   "cell_type": "markdown",
   "id": "8041bd4f-d7ae-402c-968b-0a3fb76784b6",
   "metadata": {},
   "source": [
    "# NLPAR Examples"
   ]
  },
  {
   "cell_type": "code",
   "execution_count": 1,
   "id": "257eb666-089b-45c8-9350-70d5bbd1c2ed",
   "metadata": {},
   "outputs": [],
   "source": [
    "from pyebsdindex import nlpar"
   ]
  },
  {
   "cell_type": "code",
   "execution_count": 2,
   "id": "307a4120-d677-4a3b-a496-9d247839c852",
   "metadata": {},
   "outputs": [],
   "source": [
    "file0 = '~/Desktop/SLMtest/scan2v3.up1'"
   ]
  },
  {
   "cell_type": "code",
   "execution_count": 3,
   "id": "8207251c-fd5a-41ae-a43e-ef8e4f05fb49",
   "metadata": {},
   "outputs": [],
   "source": [
    "nlobj = nlpar.NLPAR(file0,lam=0.9, searchradius=3)"
   ]
  },
  {
   "cell_type": "markdown",
   "id": "1ef71e58-b1b9-486d-897b-4e7841b3c7cb",
   "metadata": {},
   "source": [
    "As always, the search radius is the 1/2 window search size.  So the full window will be _(2\\*searchradius+1)^2_ or in this case 7x7 patterns (including the center pattern of interest).  \n"
   ]
  },
  {
   "cell_type": "markdown",
   "id": "b60b9087-0818-4063-80bc-85aaf1d8a7eb",
   "metadata": {},
   "source": [
    "### Estimating a value for lambda\n",
    "A value of 0.9 is a pretty good guess for lambda for relatively noisy 80x80 patterns.  But one can get a customized value of lambda by running an optimization that examines what value of lambda would provide a certain amount of reduction in the weight of the pattern of interest for a nearest-neighborhood search window.  The idea being that for most scans, nearly all the neighboring patterns are nearly identical other than noise.  Thus - the weigh of the pattern of interest is a measure of how much the neighboring patterns are contributing. Three optimized weights are considered (by default: \\[0.5, 0.34, 0.25\\]).  Hueristically we have found that the 0.34 provides a reasonable estimate -- the other two values are provided as something that represents a resonable range for lambda (lower lambda is less neighbor averaging, higher is more neighbor averaging).   \n",
    "\n",
    "Note, this will also calculate a per-point estimation of the noise in each pattern (sigma) which will be automatically stored in the nlobj for use in the NLPAR calculations.  \n",
    "\n",
    "\n",
    "```chunksize = int (default: 0) ``` These are the number of rows from the EBSD scan to process at one time.  The default (set to 0) is to examine the number of columns in the scan, and estimate a chunk size that is approximately 4GB.  No promises.   \n",
    "```automask = True (default: True)``` will place a circular mask around the pattern (using the diamter of the shorter of the two pattern edges).\n",
    "```autoupdate = True (default: True) ``` will update the lambda value in the nlobj class with the optimized version.  \n",
    "```backsub = True (default: False) ``` will perform a basic background subtraction on the patterns before elvaluation. Average pattern is calculated per pattern chunk.  \n",
    "```saturation_protect = True (default:True) ``` this will exclude the pixels that have the maximum brightness value from the calculation (maximum value again calculated per pattern chunk).  "
   ]
  },
  {
   "cell_type": "code",
   "execution_count": 4,
   "id": "83a724b4-120f-408b-834e-f05e17cda4b4",
   "metadata": {},
   "outputs": [
    {
     "name": "stdout",
     "output_type": "stream",
     "text": [
      "Chunk size set to nrows: 278\n",
      "Block 0\n"
     ]
    },
    {
     "name": "stderr",
     "output_type": "stream",
     "text": [
      "OMP: Info #276: omp_set_nested routine deprecated, please use omp_set_max_active_levels instead.\n"
     ]
    },
    {
     "name": "stdout",
     "output_type": "stream",
     "text": [
      "Block 278\n",
      "Block 556\n",
      "Block 834\n",
      "Range of lambda values:  [0.65239258 0.90292969 1.15952148]\n",
      "Optimal Choice:  0.9029296874999998\n"
     ]
    }
   ],
   "source": [
    "nlobj.opt_lambda(chunksize = 0, automask = True, autoupdate=True, backsub = False)"
   ]
  },
  {
   "cell_type": "markdown",
   "id": "13bb9aaa-8d49-4513-8a68-dbccc0d62d20",
   "metadata": {
    "tags": []
   },
   "source": [
    "### Executing NLPAR\n",
    "\n",
    "Now that there are reasonable estimates for sigma and lambda, one can execute NLPAR.  With the default values and using 'UP' EDAX files, a new file will be created to store the result with the pattern \\[filename\\]lam\\[x.xx\\]sr\\[x\\]dt\\[x.x\\].up\\[1/2\\].\n",
    "\n",
    "The user can override the filename if they want - but should not overwrite the original data filename (no protections are provided). \n"
   ]
  },
  {
   "cell_type": "code",
   "execution_count": 6,
   "id": "8f3928e9-a67b-462b-b14d-8e2a2dd0f5d7",
   "metadata": {},
   "outputs": [
    {
     "name": "stdout",
     "output_type": "stream",
     "text": [
      "Chunk size set to nrows: 278\n",
      "0.90292966 4 0.0\n",
      "Block 0\n",
      "Block 278\n",
      "Block 556\n",
      "Block 834\n"
     ]
    }
   ],
   "source": [
    "nlobj.searchradius = 4\n",
    "nlobj.calcnlpar(chunksize=0,searchradius=None,lam = None, saturation_protect=True,automask=True,\n",
    "                filename=None, fileout=None, backsub = False)"
   ]
  },
  {
   "cell_type": "code",
   "execution_count": 5,
   "id": "2e504242-1af5-454b-b28c-db3c4c4ecd61",
   "metadata": {},
   "outputs": [
    {
     "name": "stdout",
     "output_type": "stream",
     "text": [
      "Chunk size set to nrows: 278\n",
      "0.90292966 3 0.0\n",
      "Block 0\n",
      "Block 278\n",
      "Block 556\n",
      "Block 834\n"
     ]
    }
   ],
   "source": [
    "nlobj.calcnlpar(chunksize=0,searchradius=None,lam = None, saturation_protect=True,automask=True,\n",
    "                filename=None, fileout='/tmp/dave.up1', backsub = False)"
   ]
  },
  {
   "cell_type": "code",
   "execution_count": 6,
   "id": "7d2b555f-4275-4805-9e26-9e3844ce8026",
   "metadata": {},
   "outputs": [
    {
     "name": "stdout",
     "output_type": "stream",
     "text": [
      "Chunk size set to nrows: 278\n",
      "1.2 11 0.0\n",
      "Block 0\n",
      "Block 278\n",
      "Block 556\n",
      "Block 834\n"
     ]
    }
   ],
   "source": [
    "nlobj.calcnlpar(chunksize=0,searchradius=11,lam = 1.2, saturation_protect=True,automask=True,\n",
    "                filename=None, fileout='/tmp/dave2.up1', backsub = False)"
   ]
  },
  {
   "cell_type": "code",
   "execution_count": null,
   "id": "b13ef6d7-6ae0-460c-be26-e0e0da296851",
   "metadata": {},
   "outputs": [],
   "source": []
  }
 ],
 "metadata": {
  "kernelspec": {
   "display_name": "Python 3.9.13 ('PyEBSDIndex')",
   "language": "python",
   "name": "python3"
  },
  "language_info": {
   "codemirror_mode": {
    "name": "ipython",
    "version": 3
   },
   "file_extension": ".py",
   "mimetype": "text/x-python",
   "name": "python",
   "nbconvert_exporter": "python",
   "pygments_lexer": "ipython3",
   "version": "3.9.13"
  },
  "vscode": {
   "interpreter": {
    "hash": "3cacad8e052162ebde31eae56cfe36e34759a2ea87d5d6503dd4028aeda06101"
   }
  }
 },
 "nbformat": 4,
 "nbformat_minor": 5
}
