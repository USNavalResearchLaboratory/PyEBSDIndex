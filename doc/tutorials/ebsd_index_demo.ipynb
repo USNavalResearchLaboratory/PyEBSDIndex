{
 "cells": [
  {
   "cell_type": "markdown",
   "id": "496b84d4-54ca-47c7-9a47-0709acffd06b",
   "metadata": {},
   "source": [
    "# Radon indexing of a demo dataset"
   ]
  },
  {
   "cell_type": "code",
   "execution_count": null,
   "id": "03b94666",
   "metadata": {},
   "outputs": [],
   "source": [
    "# if installed from conda or pip, this is likely not necessary, but if installed from source, or using a developer branch, this can be quite useful. \n",
    "#import sys\n",
    "#sys.path.insert(0, \"/Path/to/PyEBSDIndex\")"
   ]
  },
  {
   "cell_type": "code",
   "execution_count": null,
   "id": "fuzzy-imaging",
   "metadata": {},
   "outputs": [],
   "source": [
    "import matplotlib.pyplot as plt\n",
    "import numpy as np\n",
    "import h5py\n",
    "import copy\n",
    "from pyebsdindex import tripletvote, ebsd_pattern, ebsd_index, ebsdfile, pcopt\n",
    "from pyebsdindex.EBSDImage import IPFcolor\n"
   ]
  },
  {
   "cell_type": "markdown",
   "id": "07714125-98dd-47d5-bc7c-9993e78243c3",
   "metadata": {},
   "source": [
    "### An example of indexing a file of patterns. \n",
    "Currently, the only types of files that can be indexed are the EDAX UP1/2 files, Oxford .ebsp uncompressed files, and HDF5 files.  There are built in tools to auto-recognize h5oim and Bruker HDF5 files.  Also see below on how to use h5py to input patterns from any (within some constraints) type of HDF5 file. \n",
    "\n",
    "First we define the environmental conditions of the data collection:"
   ]
  },
  {
   "cell_type": "code",
   "execution_count": null,
   "id": "5bef39f7-eec9-409e-b3b6-cf2fc5828057",
   "metadata": {
    "tags": []
   },
   "outputs": [],
   "source": [
    "file = '/Path/to/example.up1' # or ebsp, or h5oina or Bruker h5\n",
    "PC = np.array([0.46, 0.70, 0.64]) # this is pulled from the .ang/ctf/h5 file, but only is a rough guess.  We will refine in a later. \n",
    "cam_elev = 5.3 # The tilt of the camera from horizontal -- positive angles are tilted below the horizontal. See diagrams in PyEBSDIndex paper for full description.    \n",
    "sampleTilt = 70.0 # sample tilt \n",
    "vendor = 'EDAX' # notes the conventions for pattern center and orientations.  "
   ]
  },
  {
   "cell_type": "markdown",
   "id": "d2e5de7a",
   "metadata": {},
   "source": [
    "Set up some phases.  There are some shortcuts for common phases (FCC, BCC, HCP). It should be noted that the setting up of the phase information also is initializing the method used for indexing the detected bands.  The default is to use triplet voting.  \n",
    "\n",
    "For the first phase, we will use the shortcut method for FCC.  In its shortest form it will act as a generic FCC phase. This will automatically define the space group, set a lattice parameter = [1.0, 1.0, 1.0, 90, 90, 90], and define a set of reflecting pole families and set the phase name to \"FCC\".   "
   ]
  },
  {
   "cell_type": "code",
   "execution_count": null,
   "id": "5b23e165",
   "metadata": {},
   "outputs": [],
   "source": [
    "fcc = tripletvote.addphase(libtype = 'FCC' )"
   ]
  },
  {
   "cell_type": "markdown",
   "id": "c5b6113b",
   "metadata": {},
   "source": [
    "It is possible to override the defaults for any of the parameters and to set a phase name.  For example:"
   ]
  },
  {
   "cell_type": "code",
   "execution_count": null,
   "id": "30a6ae6e",
   "metadata": {},
   "outputs": [],
   "source": [
    "austenite = tripletvote.addphase(libtype = 'FCC', phasename = 'Austenite', latticeparameter=[0.355, 0.355, 0.355, 90, 90, 90])"
   ]
  },
  {
   "cell_type": "markdown",
   "id": "93daab0a",
   "metadata": {},
   "source": [
    "If the phase is not one of the shortcut phases, then the space group, lattice parameters, and reflecting families need to be defined.  It should be noted that PyBSDIndex does no checks to make sure that the space group and lattice parameters have a matching specification.  Thus, if hexagonal lattice parameters are input to a cubic space group, it will produce nonsense results. Here, we will use a BCC lattice as an example: "
   ]
  },
  {
   "cell_type": "code",
   "execution_count": null,
   "id": "da0c7317",
   "metadata": {},
   "outputs": [],
   "source": [
    "ferrite = tripletvote.addphase(phasename = 'Ferrite',\n",
    "                              spacegroup = 229, \n",
    "                              latticeparameter=[0.286,0.286,0.286,90, 90, 90],\n",
    "                              polefamilies =[[0, 1, 1], [0, 0, 2], [1, 1, 2], [0, 1, 3]])"
   ]
  },
  {
   "cell_type": "markdown",
   "id": "163cf125",
   "metadata": {},
   "source": [
    "Finally, we need to put these into a list.  As an implementation note, the default behavior is that if PyEBSDIndex matches at least seven bands to a phase, then the second phase is not even checked.  This is set as a reasonable trade-off for speed to accuracy, but can be changed if desired. Thus, putting the phase that is most likely to be found in the scan first does tend to index faster.  "
   ]
  },
  {
   "cell_type": "code",
   "execution_count": null,
   "id": "62139aac",
   "metadata": {},
   "outputs": [],
   "source": [
    "phaselist = [austenite, ferrite]"
   ]
  },
  {
   "cell_type": "markdown",
   "id": "4b1f77d8",
   "metadata": {},
   "source": [
    "For the truly lazy among us, there is also the option to define the shortcut phases as part of the list, which can be mixed and matched with the fully initiated phases above:"
   ]
  },
  {
   "cell_type": "code",
   "execution_count": null,
   "id": "e57c71b9",
   "metadata": {},
   "outputs": [],
   "source": [
    "phaselistlazy = [austenite, 'BCC', 'HCP']"
   ]
  },
  {
   "cell_type": "markdown",
   "id": "85912ba7-ca2e-4121-93da-3690dbe107dd",
   "metadata": {},
   "source": [
    "Define the radon and indexing parameters.  These work well for 60 x 60 patterns.  The most critical values are the size of `rSig` and `tSig`, which are fairly dependent on the band widths.  "
   ]
  },
  {
   "cell_type": "code",
   "execution_count": null,
   "id": "47ed2c34-9aab-44fc-b288-7dd75ca94cee",
   "metadata": {},
   "outputs": [],
   "source": [
    "nT = 180 # 180/nTheta == degree resolution \n",
    "nR = 90 # number of bins in rho space -- should be close to the number of pixels in the pattern.  \n",
    "tSig = 2.0 # amount of gaussian kernel size in theta in units of radon pixels.\n",
    "rSig = 2.0 # amount of gassian 2nd derivate in rho in units of radon pixels.\n",
    "rhomask = 0.1 # fraction of radius to not analyze\n",
    "backgroundsub = False # enable/disable a simple background correction of the patterns\n",
    "nbands = 8"
   ]
  },
  {
   "cell_type": "markdown",
   "id": "1a2e4a98-a761-44cf-9c50-893fe1a32ae4",
   "metadata": {},
   "source": [
    "Now initialize the indexer object.  It is easiest to run it over 1000 patterns to give some idea of timing.  \n",
    "Verbose = 1 is only timing, verbose = 2 is radon and peak ID image of last pattern, verbose = 0 nothing is reported. \n",
    "Here, \"dat1\" is a temporary indexed data of the 1000 points.  \n",
    "\n",
    "The indexer object will hold all the information needed to index a set of patterns.  This includes all the environmental conditions, the radon/band finding parameters, the phase information (including a library of triplet angles).  The only parameter used are the angles between bands, no bandwidth information is currently used.  \n"
   ]
  },
  {
   "cell_type": "code",
   "execution_count": null,
   "id": "dental-singapore",
   "metadata": {},
   "outputs": [],
   "source": [
    "dat1,bnd1, indxer=ebsd_index.index_pats(filename = file,\n",
    "                                     patstart = 0, npats = 1000,return_indexer_obj = True,\n",
    "                                     backgroundSub = backgroundsub,\n",
    "                                     nTheta = nT, nRho=nR,\n",
    "                                     tSigma = tSig, rSigma = rSig,rhoMaskFrac=rhomask,nBands=nbands, \\\n",
    "                                     phaselist = phaselist, \n",
    "                                     PC = PC, camElev=cam_elev, sampleTilt=sampleTilt, \n",
    "                                     vendor = vendor, \n",
    "                                     verbose = 2)\n",
    "imshape = (indxer.fID.nRows, indxer.fID.nCols)\n"
   ]
  },
  {
   "cell_type": "markdown",
   "id": "d1241ddf-06ba-4c89-b3a7-b4ba25c9fd22",
   "metadata": {},
   "source": [
    "The data output *dat1* here, is a complex numpy array (or array of structured data), that is `[nphases+1, npoints]`.  The data is stored for each phase used in indexing and the dat1\\[-1\\] layer uses the best guess on which is the most likely phase, based on the fit, and number of bands matched for each phase.  Each data entry contains the orientation expressed as a quaternion (quat) (using EDAX convention by default), Pattern Quality (pq), Confidence Metric (cm), Phase ID (phase), Fit (fit) and Number of Bands Matched (nmatch).  There are some other metrics reported, but these are mostly for debugging purposes.  "
   ]
  },
  {
   "cell_type": "markdown",
   "id": "0a01f656",
   "metadata": {},
   "source": [
    "## Refine the PC guess\n",
    "Here we read a set of 5x5 patterns from the center of the scan to make an optimized estimate of the pattern center.  The patterns are read into a numpy array.  Currently, only a single PC is used for each scan, but improvements for this should be coming soon.  With the default optimization method, the initial guess should be close; within ±0.1 -- 0.05, and closer is better.  "
   ]
  },
  {
   "cell_type": "code",
   "execution_count": null,
   "id": "a1c0c98f",
   "metadata": {},
   "outputs": [],
   "source": [
    "startcolrow = [int(imshape[1]//2)-2, int(imshape[0]//2)-2]\n",
    "fID = ebsd_pattern.get_pattern_file_obj(file)\n",
    "# returns patterns in an array, and the location in microns of the patterns witin the scan relative to the center of the scan\n",
    "pats, xyloc = fID.read_data(returnArrayOnly=True, convertToFloat=True, patStartCount=[startcolrow, [5,5]]) \n",
    "newPC = pcopt.optimize(pats, indxer, PC0 = PC)\n",
    "# actually save the PC into the indxer object.  \n",
    "indxer.PC = newPC\n",
    "print(newPC)"
   ]
  },
  {
   "cell_type": "markdown",
   "id": "57127f77-e234-4617-9e4b-04b5090a588e",
   "metadata": {},
   "source": [
    "Now use that indexer object to index the whole file.  Setting `npats = -1` will index to the end of the file/array (latter on will be an example of using an array as input).  \n",
    "\n",
    "The defaults will be to detect all the GPUs on your machine, and use them.  Scheduling is dynamic, so it does not matter if the GPUs are matched. After radon processing/peak finding, the cpus take over for performing the index voting -- thus the number of CPUs needed will depend highly on the number of phases that need to be indexed.  The number of CPUs needed also is dependent on how fast your GPUs are - on a 2019 MacPro with a Radeon 6800 GPU there are diminishing returns of including more than 32 CPUs when using the above conditions.  \n",
    "\n",
    "The first time this executes, it will take longer as the JIT compilers need to do the initial compile. Currently, the program cache is set to the system `/tmp` directory, so after reboots, many of the programs will need to be recompiled (which happens automatically with the first run)"
   ]
  },
  {
   "cell_type": "code",
   "execution_count": null,
   "id": "sized-thanksgiving",
   "metadata": {
    "scrolled": true,
    "tags": []
   },
   "outputs": [],
   "source": [
    "\n",
    "data, bnddata = ebsd_index.index_pats_distributed(filename = file,patstart = 0, npats = -1,ebsd_indexer_obj = indxer,  ncpu = 18 , verbose =2) "
   ]
  },
  {
   "cell_type": "markdown",
   "id": "b51719db-5111-4ba5-a6e5-3304adfd9910",
   "metadata": {},
   "source": [
    "Display the results as an IPF map.  So far the only implementation is for cubic and hex IPFs - further, more flexible representations are needed here, but are likely going to be best handled by orix or others.  "
   ]
  },
  {
   "cell_type": "code",
   "execution_count": null,
   "id": "5fa77d67-0581-42fc-80c2-ae37489256f3",
   "metadata": {
    "tags": [
     "nbsphinx-thumbnail"
    ]
   },
   "outputs": [],
   "source": [
    "ipfim = IPFcolor.makeipf(data, indxer); plt.imshow(ipfim)"
   ]
  },
  {
   "cell_type": "code",
   "execution_count": null,
   "id": "3ee4b685-5a7c-4eae-a175-b2e86a5afcf0",
   "metadata": {},
   "outputs": [],
   "source": [
    "fit = (data[-1]['fit']).reshape(imshape[0],imshape[1]); plt.imshow(fit.clip(0, 2.0))"
   ]
  },
  {
   "cell_type": "code",
   "execution_count": null,
   "id": "ea57565f-5ddd-4be5-aa43-793edb30b6f7",
   "metadata": {},
   "outputs": [],
   "source": [
    "pq = (data[-1]['pq']).reshape(imshape[0],imshape[1]); plt.imshow(pq)"
   ]
  },
  {
   "cell_type": "markdown",
   "id": "9ccdbbfb",
   "metadata": {},
   "source": [
    "## Writing data out\n",
    "Still working on this, but there are two output formats for the data arrays from PyEBSDIndex, .ang files, and .oh5 (EDAX's version of the H5EBSD data spec). "
   ]
  },
  {
   "cell_type": "code",
   "execution_count": null,
   "id": "5744b3df",
   "metadata": {},
   "outputs": [],
   "source": [
    "ebsdfile.writeoh5(filename='MyScanData.oh5', indexer=indxer, data=data)"
   ]
  },
  {
   "cell_type": "code",
   "execution_count": null,
   "id": "9084cbca",
   "metadata": {},
   "outputs": [],
   "source": [
    "ebsdfile.writeang(filename='MyScanData.ang', indexer=indxer, data=data)"
   ]
  },
  {
   "cell_type": "markdown",
   "id": "854a76e5-2262-49b6-ae2e-363498f23a66",
   "metadata": {},
   "source": [
    "### An example of indexing an array of patterns.\n",
    "\n",
    "It is also possible to index a numpy array of patterns.  \n",
    "Here we will read part of the UP file above into an array -- note that patterns can take up a lot of RAM.  It is not normally advisable to read in an entire file of patterns if the file size is > 2GB.  \n",
    "\n",
    "Here we read in 200cols x 300 rows = 60000 patterns starting at column 10, row 5 (0-index based) of the EBSD scan data.  What is important here is that the patterns are returned as a `(N, pH, pW)` numpy float32 array where *N* is the number of patterns, `pH` is the pattern height, and `pW` is the pattern width.  \n",
    "\n",
    "It should be noted that patterns are expected to be arranged so that `pats[0,0,0]` corresponds to the top-left pixel as one looks at the detector towards the sample (same as the EBSD vendor standards and EMSoft version >=5.0). "
   ]
  },
  {
   "cell_type": "code",
   "execution_count": null,
   "id": "64d0f40a-b55c-4103-8335-ea27267f6e1a",
   "metadata": {},
   "outputs": [],
   "source": [
    "startcolrow = [10,5]\n",
    "ncol = 200\n",
    "nrow = 300\n",
    "\n",
    "f = ebsd_pattern.get_pattern_file_obj(file)\n",
    "pats, xyloc = f.read_data(returnArrayOnly=True, convertToFloat=True, patStartCount=[startcolrow, [ncol,nrow]])\n",
    "# read data and return the patterns as an ndarray[npats, npatrows, npatcols], and the x,y locations within the scan (in microns), ndarray[2,npats]\n",
    "print(pats.shape)\n",
    "print(pats.dtype)\n",
    "plt.imshow(pats[0, :, :], cmap='gray')"
   ]
  },
  {
   "cell_type": "markdown",
   "id": "cf5ff6f1-3075-4efb-a7ab-ccb3a31ed339",
   "metadata": {},
   "source": [
    "If the array holds a small number of patterns that can all fit on the GPU at one time, one can avoid the distributed indexing method.  It should be noted that there is built in data chunking (set to fairly conservative limits) to the GPU when using *index_pats*, but no multi-processing of the band voting, so it may take a long while. This small set takes about one minute on a 2019 Mac Pro. Here, we are going to use the same indexer object as above.  "
   ]
  },
  {
   "cell_type": "code",
   "execution_count": null,
   "id": "12433080-9bb9-408c-b252-024ebb80d58c",
   "metadata": {},
   "outputs": [],
   "source": [
    "datasm, bnddatsm=ebsd_index.index_pats(patsin = pats, ebsd_indexer_obj = indxer, verbose = 2)"
   ]
  },
  {
   "cell_type": "markdown",
   "id": "54087bfe-e560-4ec2-8689-006032850557",
   "metadata": {},
   "source": [
    "If the array is large, then the distributed indexing works on large input arrays as well.  Here a smaller number of CPU processes are used to minimize overhead of spinning up a new process.  "
   ]
  },
  {
   "cell_type": "code",
   "execution_count": null,
   "id": "2d822d5b-0eab-462e-88c1-9c678c56578a",
   "metadata": {},
   "outputs": [],
   "source": [
    "datasm, bnddatsm = ebsd_index.index_pats_distributed(patsin = pats, ebsd_indexer_obj = indxer,  ncpu = 12)"
   ]
  },
  {
   "cell_type": "code",
   "execution_count": null,
   "id": "098a5371-ad47-43bf-ac41-a300db4cc30a",
   "metadata": {},
   "outputs": [],
   "source": [
    "ipfim = IPFcolor.makeipf(datasm, indxer, xsize = 200); plt.imshow(ipfim) # xsize needs to be defined for array inputs. "
   ]
  },
  {
   "cell_type": "markdown",
   "id": "d6961c13-9ef7-4be2-ba7c-40e3285398e3",
   "metadata": {},
   "source": [
    "And of course, one can index a single pattern as well.  In this case, *pat* can be a 2D array `(pH, pW)`:"
   ]
  },
  {
   "cell_type": "code",
   "execution_count": null,
   "id": "c373ce83-ca1a-49f6-afe5-695c75ab68eb",
   "metadata": {},
   "outputs": [],
   "source": [
    "pat1 = pats[0,:, :]\n",
    "print(pat1.shape)\n",
    "plt.imshow(pat1, cmap='gray')"
   ]
  },
  {
   "cell_type": "code",
   "execution_count": null,
   "id": "f7f8c560-b14b-4f22-95aa-9754fa8ebe6e",
   "metadata": {},
   "outputs": [],
   "source": [
    "dat1, bnddat1 = ebsd_index.index_pats(patsin = pat1, ebsd_indexer_obj = indxer, verbose=2)\n",
    "dat1 = dat1[-1]\n",
    "print(dat1.dtype.names)\n",
    "print(dat1)"
   ]
  },
  {
   "cell_type": "markdown",
   "id": "bb57bfce-13d7-44b3-b78f-4a876ca20215",
   "metadata": {},
   "source": [
    "\n",
    "\n",
    "\n",
    "\n",
    "It should be noted that this is a pretty slow indexing of one point. It may be prefered to run this all on the CPU instead:"
   ]
  },
  {
   "cell_type": "code",
   "execution_count": null,
   "id": "0d60bb4f-917d-479a-8c04-f328154b9770",
   "metadata": {},
   "outputs": [],
   "source": [
    "indxerCPU = copy.deepcopy(indxer)\n",
    "indxerCPU.bandDetectPlan.useCPU = False\n",
    "dat1, bnddat1 = ebsd_index.index_pats(patsin = pat1, ebsd_indexer_obj = indxerCPU, verbose=2)\n",
    "dat1 = dat1 = dat1[-1]"
   ]
  },
  {
   "cell_type": "markdown",
   "id": "ac0880e8-0f5d-441b-af80-50fb95d18f3c",
   "metadata": {},
   "source": [
    "### Loading data from an HDF5 File\n",
    "There is some limited support for specific types of HDF5 files using the _\"filename\"_ keyword to `index_pats` or `index_pats_distributed`.  However, probably the easiest method is to just point a h5py Dataset at the `patsin` keyword (This makes the important assumption that the patterns are stored in `[npatterns, nrows, ncols]` and the first point stored is the upper left corner of the detector).  See below: "
   ]
  },
  {
   "cell_type": "code",
   "execution_count": null,
   "id": "c7310f4b-6b33-492b-af39-04a5cc3f8af3",
   "metadata": {},
   "outputs": [],
   "source": [
    "\n",
    "h5file = '/Path/to/hdf5/file.h5'\n",
    "f = h5py.File(h5file, 'r') # this is an HDF5 file type used by EDAX.  \n",
    "h5pats = f['/Scan 1/EBSD/Data/Pattern'] # location of the pattern array within the HDF5 file.  \n",
    "# index the first 1000\n",
    "h5data, h5bnddata, indxer=ebsd_index.index_pats(patsin = h5pats[0:1000,:,:],\n",
    "                                     patstart = 0, npats = 1000,return_indexer_obj = True,\n",
    "                                     backgroundSub = backgroundsub,\n",
    "                                     nTheta = nT, nRho=nR,\n",
    "                                     tSigma = tSig, rSigma = rSig,rhoMaskFrac=rhomask,nBands=nbands, \\\n",
    "                                     phaselist = phaselist, \n",
    "                                     PC = PC, camElev=cam_elev, sampleTilt=sampleTilt, \n",
    "                                     vendor = vendor, \n",
    "                                     verbose = 2)\n",
    "#now index them all\n",
    "h5data, h5banddata = ebsd_index.index_pats_distributed(patsin = h5pats, ebsd_indexer_obj = indxer, ncpu = 28)"
   ]
  },
  {
   "cell_type": "code",
   "execution_count": null,
   "id": "6f377cb3-e8e3-467f-9f78-0b9418a7580c",
   "metadata": {},
   "outputs": [],
   "source": []
  }
 ],
 "metadata": {
  "kernelspec": {
   "display_name": "Python 3.9.13 ('PyEBSDIndex')",
   "language": "python",
   "name": "python3"
  },
  "language_info": {
   "codemirror_mode": {
    "name": "ipython",
    "version": 3
   },
   "file_extension": ".py",
   "mimetype": "text/x-python",
   "name": "python",
   "nbconvert_exporter": "python",
   "pygments_lexer": "ipython3",
   "version": "3.10.13"
  },
  "vscode": {
   "interpreter": {
    "hash": "3cacad8e052162ebde31eae56cfe36e34759a2ea87d5d6503dd4028aeda06101"
   }
  }
 },
 "nbformat": 4,
 "nbformat_minor": 5
}
